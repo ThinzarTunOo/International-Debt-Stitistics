{
 "cells": [
  {
   "cell_type": "markdown",
   "metadata": {},
   "source": [
    "# Project Description\n",
    "In this project, I am going to analyze international debt data collected by The World Bank. The dataset contains information about the amount of debt (in USD) owed by developing countries across several categories. I am going to find the answers to questions like:\n",
    "\n",
    ". What is the total amount of debt that is owed by the countries listed in the dataset?\n",
    ". Which country owns the maximum amount of debt and what does that amount look like?\n",
    ". What is the average amount of debt owed by countries across different debt indicators?\n",
    "\n",
    "The data used in this project is provided by The World Bank. It contains both national and regional debt statistics for several countries across the globe as recorded from 1970 to 2015.\n",
    "\n",
    "Project Tasks\n",
    "1. The World Bank's international debt data\n",
    "2. Finding the number of distinct countries\n",
    "3. Finding out the distinct debt indicators\n",
    "4. Totaling the amount of debt owed by the countries\n",
    "5. Country with the highest debt\n",
    "6. Average amount of debt across indicators\n",
    "7. The highest amount of principal repayments\n",
    "8. The most common debt indicator\n",
    "9. Other viable debt issues and conclusion"
   ]
  },
  {
   "cell_type": "markdown",
   "metadata": {},
   "source": [
    "### 1. The World Bank's international debt data\n",
    "In the first step, I'm gonna SELECT all of the columns from the international_debt table. Also, I will limit the output to the first ten rows to keep the output clean."
   ]
  },
  {
   "cell_type": "code",
   "execution_count": 1,
   "metadata": {},
   "outputs": [
    {
     "name": "stderr",
     "output_type": "stream",
     "text": [
      "UsageError: Cell magic `%%sql` not found.\n"
     ]
    }
   ],
   "source": [
    "%%sql\n",
    "postgresql:///international_debt\n",
    "\n",
    "SELECT *\n",
    "FROM international_debt\n",
    "LIMIT 10;"
   ]
  },
  {
   "cell_type": "markdown",
   "metadata": {},
   "source": [
    "### 2. Finding the number of distinct countries\n",
    "After selected first 10 rows, we can see the amount of debt owed by Afghanistan in the different debt indicators. But we do not know the number of different countries we have on the table. There are repetitions in the country names because a country is most likely to have debt in more than one debt indicator.\n",
    "\n",
    "Without a count of unique countries, we will not be able to perform our statistical analyses holistically. In this section, I'm gonna to extract the number of unique countries present in the table."
   ]
  },
  {
   "cell_type": "code",
   "execution_count": null,
   "metadata": {},
   "outputs": [],
   "source": [
    "%%sql \n",
    "SELECT \n",
    "    COUNT(DISTINCT country_name) AS total_distinct_countries\n",
    "FROM international_debt;"
   ]
  },
  {
   "cell_type": "markdown",
   "metadata": {},
   "source": [
    "### 3. Finding out the distinct debt indicators\n",
    "Regarding the above step, there are a total of 124 countries present on the table. As we saw in the first section, there is a column called indicator_name that briefly specifies the purpose of taking the debt. Just beside that column, there is another column called indicator_code which symbolizes the category of these debts. Knowing about these various debt indicators will help us to understand the areas in which a country can possibly be indebted to."
   ]
  },
  {
   "cell_type": "code",
   "execution_count": null,
   "metadata": {},
   "outputs": [],
   "source": [
    "%%sql \n",
    "SELECT \n",
    "    DISTINCT indicator_code AS distinct_debt_indicators\n",
    "FROM international_debt\n",
    "ORDER BY distinct_debt_indicators;"
   ]
  },
  {
   "cell_type": "markdown",
   "metadata": {},
   "source": [
    "###  4. Totaling the amount of debt owed by the countries\n",
    "In this step, let's switch gears from the debt indicators now and find out the total amount of debt (in USD) that is owed by the different countries. This will give us a sense of how the overall economy of the entire world is holding up."
   ]
  },
  {
   "cell_type": "code",
   "execution_count": null,
   "metadata": {},
   "outputs": [],
   "source": [
    "%%sql\n",
    "SELECT \n",
    "    ROUND(SUM(debt)/1000000, 2) AS total_debt\n",
    "FROM international_debt; "
   ]
  },
  {
   "cell_type": "markdown",
   "metadata": {},
   "source": [
    "### 5. Country with the highest debt\n",
    "Now, we have the exact total of the amounts of debt owed by several countries, let's now find out the country that owns the highest amount of debt along with the amount. Note that this debt is the sum of different debts owed by a country across several categories. This will help to understand more about the country in terms of its socio-economic scenarios. We can also find out the category in which the country owns its highest debt."
   ]
  },
  {
   "cell_type": "code",
   "execution_count": null,
   "metadata": {},
   "outputs": [],
   "source": [
    "%%sql\n",
    "SELECT \n",
    "    country_name, \n",
    "    SUM(debt) AS total_debt\n",
    "FROM international_debt\n",
    "GROUP BY country_name\n",
    "ORDER BY total_debt DESC\n",
    "LIMIT 1;"
   ]
  },
  {
   "cell_type": "markdown",
   "metadata": {},
   "source": [
    "### 6. Average amount of debt across indicators\n",
    "We now have a brief overview of the dataset and a few of its summary statistics. We already have an idea of the different debt indicators in which the countries owe their debts. We can dig even further to find out on an average how much debt a country owes? This will give us a better sense of the distribution of the amount of debt across different indicators."
   ]
  },
  {
   "cell_type": "code",
   "execution_count": null,
   "metadata": {},
   "outputs": [],
   "source": [
    "%%sql\n",
    "SELECT \n",
    "    indicator_code AS debt_indicator,\n",
    "    indicator_name,\n",
    "    AVG(debt) AS average_debt\n",
    "FROM international_debt\n",
    "GROUP BY debt_indicator, indicator_name\n",
    "ORDER BY average_debt DESC\n",
    "LIMIT 10;"
   ]
  },
  {
   "cell_type": "markdown",
   "metadata": {},
   "source": [
    "### 7. The highest amount of principal repayments\n",
    "There is a huge difference in the amounts of the indicators after the second one. This indicates that the first two indicators might be the most severe categories in which the countries owe their debts.\n",
    "\n",
    "To find out which country owes the highest amount of debt in the category of long term debts (DT.AMT.DLXF.CD). Since not all the countries suffer from the same kind of economic disturbances, this finding will allow us to understand that particular country's economic condition a bit more specifically."
   ]
  },
  {
   "cell_type": "code",
   "execution_count": null,
   "metadata": {},
   "outputs": [],
   "source": [
    "%%sql\n",
    "SELECT \n",
    "    country_name, \n",
    "    indicator_name\n",
    "FROM international_debt\n",
    "WHERE debt = (SELECT \n",
    "                  MAX(debt)\n",
    "              FROM international_debt\n",
    "              WHERE indicator_code='DT.AMT.DLXF.CD');"
   ]
  },
  {
   "cell_type": "markdown",
   "metadata": {},
   "source": [
    "### 8. The most common debt indicator\n",
    "We saw that long-term debt is the topmost category when it comes to the average amount of debt. But is it the most common indicator in which the countries owe their debt? Let's find that out."
   ]
  },
  {
   "cell_type": "code",
   "execution_count": null,
   "metadata": {},
   "outputs": [],
   "source": [
    "%%sql\n",
    "SELECT \n",
    "    indicator_code,\n",
    "    COUNT(indicator_code) AS indicator_count\n",
    "FROM international_debt\n",
    "GROUP BY indicator_code\n",
    "ORDER BY indicator_count DESC, indicator_code DESC\n",
    "LIMIT 20;"
   ]
  },
  {
   "cell_type": "markdown",
   "metadata": {},
   "source": [
    "### 9. Other viable debt issues and conclusion\n",
    "Let's find out the maximum amount of debt that each country has. With this, we will be in a position to identify the other plausible economic issues a country might be going through.\n",
    "\n",
    "In this notebook, we took a look at debt owed by countries across the globe. We extracted a few summary statistics from the data and unraveled some interesting facts and figures. We also validated our findings to make sure the investigations are correct."
   ]
  },
  {
   "cell_type": "code",
   "execution_count": null,
   "metadata": {},
   "outputs": [],
   "source": [
    "%%sql\n",
    "SELECT \n",
    "    country_name, \n",
    "    MAX(debt) AS maximum_debt\n",
    "FROM international_debt\n",
    "GROUP BY country_name\n",
    "ORDER BY maximum_debt DESC\n",
    "LIMIT 10;"
   ]
  }
 ],
 "metadata": {
  "kernelspec": {
   "display_name": "Python 3",
   "language": "python",
   "name": "python3"
  },
  "language_info": {
   "codemirror_mode": {
    "name": "ipython",
    "version": 3
   },
   "file_extension": ".py",
   "mimetype": "text/x-python",
   "name": "python",
   "nbconvert_exporter": "python",
   "pygments_lexer": "ipython3",
   "version": "3.7.6"
  }
 },
 "nbformat": 4,
 "nbformat_minor": 4
}
